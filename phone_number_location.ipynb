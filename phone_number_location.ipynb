{
  "nbformat": 4,
  "nbformat_minor": 0,
  "metadata": {
    "colab": {
      "provenance": [],
      "authorship_tag": "ABX9TyNUF4U8hby6FR8Gv3vWOJZB",
      "include_colab_link": true
    },
    "kernelspec": {
      "name": "python3",
      "display_name": "Python 3"
    },
    "language_info": {
      "name": "python"
    }
  },
  "cells": [
    {
      "cell_type": "markdown",
      "metadata": {
        "id": "view-in-github",
        "colab_type": "text"
      },
      "source": [
        "<a href=\"https://colab.research.google.com/github/tulasivishnu123/ML/blob/main/phone_number_location.ipynb\" target=\"_parent\"><img src=\"https://colab.research.google.com/assets/colab-badge.svg\" alt=\"Open In Colab\"/></a>"
      ]
    },
    {
      "cell_type": "code",
      "execution_count": 13,
      "metadata": {
        "colab": {
          "base_uri": "https://localhost:8080/"
        },
        "id": "keAwia7hnYO9",
        "outputId": "8e24a0d3-c2e4-4e6c-c9e4-bdd42cacd1e8"
      },
      "outputs": [
        {
          "output_type": "stream",
          "name": "stdout",
          "text": [
            "Country Name =>  India\n",
            "----------------------\n",
            "\n",
            "Telecom Company Name =>  Idea\n",
            "---------------------------------\n",
            "\n",
            "[{'annotations': {'DMS': {'lat': \"22° 21' 4.01328'' N\", 'lng': \"78° 40' 3.87408'' E\"}, 'MGRS': '44QKK5981273550', 'Maidenhead': 'ML92ii04dg', 'Mercator': {'x': 8757253.07, 'y': 2537490.922}, 'OSM': {'edit_url': 'https://www.openstreetmap.org/edit?relation=304716#map=17/22.35111/78.66774', 'note_url': 'https://www.openstreetmap.org/note/new#map=17/22.35111/78.66774&layers=N', 'url': 'https://www.openstreetmap.org/?mlat=22.35111&mlon=78.66774#map=17/22.35111/78.66774'}, 'UN_M49': {'regions': {'ASIA': '142', 'IN': '356', 'SOUTHERN_ASIA': '034', 'WORLD': '001'}, 'statistical_groupings': ['LEDC']}, 'callingcode': 91, 'currency': {'alternate_symbols': ['Rs', '৳', '૱', '௹', 'रु', '₨'], 'decimal_mark': '.', 'html_entity': '&#x20b9;', 'iso_code': 'INR', 'iso_numeric': '356', 'name': 'Indian Rupee', 'smallest_denomination': 50, 'subunit': 'Paisa', 'subunit_to_unit': 100, 'symbol': '₹', 'symbol_first': 1, 'thousands_separator': ','}, 'flag': '🇮🇳', 'geohash': 'tezznhuhemb94y00nqrq', 'qibla': 276.07, 'roadinfo': {'drive_on': 'left', 'speed_in': 'km/h'}, 'sun': {'rise': {'apparent': 1731805200, 'astronomical': 1731886920, 'civil': 1731803760, 'nautical': 1731802140}, 'set': {'apparent': 1731844860, 'astronomical': 1731849480, 'civil': 1731846240, 'nautical': 1731847860}}, 'timezone': {'name': 'Asia/Kolkata', 'now_in_dst': 0, 'offset_sec': 19800, 'offset_string': '+0530', 'short_name': 'IST'}, 'what3words': {'words': 'dryness.herbalists.unceasingly'}, 'wikidata': 'Q668'}, 'bounds': {'northeast': {'lat': 35.6745457, 'lng': 97.395561}, 'southwest': {'lat': 6.5531169, 'lng': 67.9544415}}, 'components': {'ISO_3166-1_alpha-2': 'IN', 'ISO_3166-1_alpha-3': 'IND', '_category': 'place', '_type': 'country', 'continent': 'Asia', 'country': 'India', 'country_code': 'in'}, 'confidence': 1, 'formatted': 'India', 'geometry': {'lat': 22.3511148, 'lng': 78.6677428}}]\n",
            "\n",
            "-------------------------------\n",
            "x = 22.3511148   y = 78.6677428\n",
            "-------------------------------\n",
            "\n"
          ]
        }
      ],
      "source": [
        "\n",
        "'''\n",
        "Phone number tracker\n",
        "\n",
        "Created by *Abdullah EL-Yamani*\n",
        "-----------------------------\n",
        "Link Youtube Video => https://youtu.be/Geisa_ib5hs\n",
        "Youtube Channel => Sam Codes\n",
        "'''\n",
        "\n",
        "import phonenumbers\n",
        "from phonenumbers import geocoder, carrier, timezone\n",
        "from opencage.geocoder import OpenCageGeocode\n",
        "import folium\n",
        "\n",
        "\n",
        "number = \"+919912823129\" # +CodeCountry PhoneNumber\n",
        "\n",
        "key = \"3f6f24b901024e1585dad354216a61cd\" # From =>  https://opencagedata.com/dashboard#geocoding > API Keys\n",
        "\n",
        "\n",
        "san_num = phonenumbers.parse(number)\n",
        "\n",
        "your_location = geocoder.description_for_number(san_num, \"en\")\n",
        "\n",
        "print(\"Country Name => \", your_location)\n",
        "print(\"----------------------\\n\")\n",
        "\n",
        "# get service provider\n",
        "\n",
        "service_provider = phonenumbers.parse(number)\n",
        "\n",
        "telecom_company =  carrier.name_for_number(service_provider, \"en\")\n",
        "\n",
        "print(\"Telecom Company Name => \", telecom_company)\n",
        "print(\"---------------------------------\\n\")\n",
        "\n",
        "geocoder = OpenCageGeocode(key)\n",
        "\n",
        "query = str(your_location)\n",
        "\n",
        "results = geocoder.geocode(query)\n",
        "\n",
        "print(results)\n",
        "\n",
        "lat = results[0]['geometry']['lat']\n",
        "lng = results[0]['geometry']['lng']\n",
        "\n",
        "print(\"\\n-------------------------------\")\n",
        "print(\"x =\", lat,\"  y =\", lng)\n",
        "print(\"-------------------------------\\n\")\n",
        "\n",
        "location = [lat, lng]\n",
        "\n",
        "Map = folium.Map(location=location, zoom_start=10)\n",
        "\n",
        "folium.Marker(location, popup = your_location).add_to(Map)\n",
        "\n",
        "Map.save(\"loc_map.html\")"
      ]
    },
    {
      "cell_type": "code",
      "source": [
        "!pip install opencage"
      ],
      "metadata": {
        "colab": {
          "base_uri": "https://localhost:8080/"
        },
        "id": "iIqewBUDqS3X",
        "outputId": "49ac9c10-3dba-4dbe-8c0e-e029ce515ec2"
      },
      "execution_count": 4,
      "outputs": [
        {
          "output_type": "stream",
          "name": "stdout",
          "text": [
            "Collecting opencage\n",
            "  Downloading opencage-3.0.3-py3-none-any.whl.metadata (7.7 kB)\n",
            "Requirement already satisfied: Requests>=2.31.0 in /usr/local/lib/python3.10/dist-packages (from opencage) (2.32.3)\n",
            "Collecting backoff>=2.2.1 (from opencage)\n",
            "  Downloading backoff-2.2.1-py3-none-any.whl.metadata (14 kB)\n",
            "Requirement already satisfied: tqdm>=4.66.4 in /usr/local/lib/python3.10/dist-packages (from opencage) (4.66.6)\n",
            "Requirement already satisfied: certifi>=2024.07.04 in /usr/local/lib/python3.10/dist-packages (from opencage) (2024.8.30)\n",
            "Requirement already satisfied: aiohttp>=3.10.5 in /usr/local/lib/python3.10/dist-packages (from opencage) (3.10.10)\n",
            "Requirement already satisfied: aiohappyeyeballs>=2.3.0 in /usr/local/lib/python3.10/dist-packages (from aiohttp>=3.10.5->opencage) (2.4.3)\n",
            "Requirement already satisfied: aiosignal>=1.1.2 in /usr/local/lib/python3.10/dist-packages (from aiohttp>=3.10.5->opencage) (1.3.1)\n",
            "Requirement already satisfied: attrs>=17.3.0 in /usr/local/lib/python3.10/dist-packages (from aiohttp>=3.10.5->opencage) (24.2.0)\n",
            "Requirement already satisfied: frozenlist>=1.1.1 in /usr/local/lib/python3.10/dist-packages (from aiohttp>=3.10.5->opencage) (1.5.0)\n",
            "Requirement already satisfied: multidict<7.0,>=4.5 in /usr/local/lib/python3.10/dist-packages (from aiohttp>=3.10.5->opencage) (6.1.0)\n",
            "Requirement already satisfied: yarl<2.0,>=1.12.0 in /usr/local/lib/python3.10/dist-packages (from aiohttp>=3.10.5->opencage) (1.17.1)\n",
            "Requirement already satisfied: async-timeout<5.0,>=4.0 in /usr/local/lib/python3.10/dist-packages (from aiohttp>=3.10.5->opencage) (4.0.3)\n",
            "Requirement already satisfied: charset-normalizer<4,>=2 in /usr/local/lib/python3.10/dist-packages (from Requests>=2.31.0->opencage) (3.4.0)\n",
            "Requirement already satisfied: idna<4,>=2.5 in /usr/local/lib/python3.10/dist-packages (from Requests>=2.31.0->opencage) (3.10)\n",
            "Requirement already satisfied: urllib3<3,>=1.21.1 in /usr/local/lib/python3.10/dist-packages (from Requests>=2.31.0->opencage) (2.2.3)\n",
            "Requirement already satisfied: typing-extensions>=4.1.0 in /usr/local/lib/python3.10/dist-packages (from multidict<7.0,>=4.5->aiohttp>=3.10.5->opencage) (4.12.2)\n",
            "Requirement already satisfied: propcache>=0.2.0 in /usr/local/lib/python3.10/dist-packages (from yarl<2.0,>=1.12.0->aiohttp>=3.10.5->opencage) (0.2.0)\n",
            "Downloading opencage-3.0.3-py3-none-any.whl (22 kB)\n",
            "Downloading backoff-2.2.1-py3-none-any.whl (15 kB)\n",
            "Installing collected packages: backoff, opencage\n",
            "Successfully installed backoff-2.2.1 opencage-3.0.3\n"
          ]
        }
      ]
    },
    {
      "cell_type": "code",
      "source": [
        "!pip install phonenumbers"
      ],
      "metadata": {
        "colab": {
          "base_uri": "https://localhost:8080/"
        },
        "id": "CfV4P-uCqHep",
        "outputId": "a3d35d56-7e92-45a2-b8f0-9ae4ea6d9647"
      },
      "execution_count": 2,
      "outputs": [
        {
          "output_type": "stream",
          "name": "stdout",
          "text": [
            "Collecting phonenumbers\n",
            "  Downloading phonenumbers-8.13.50-py2.py3-none-any.whl.metadata (10 kB)\n",
            "Downloading phonenumbers-8.13.50-py2.py3-none-any.whl (2.6 MB)\n",
            "\u001b[2K   \u001b[90m━━━━━━━━━━━━━━━━━━━━━━━━━━━━━━━━━━━━━━━━\u001b[0m \u001b[32m2.6/2.6 MB\u001b[0m \u001b[31m18.8 MB/s\u001b[0m eta \u001b[36m0:00:00\u001b[0m\n",
            "\u001b[?25hInstalling collected packages: phonenumbers\n",
            "Successfully installed phonenumbers-8.13.50\n"
          ]
        }
      ]
    }
  ]
}